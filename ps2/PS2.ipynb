{
 "cells": [
  {
   "cell_type": "code",
   "execution_count": 2,
   "metadata": {},
   "outputs": [],
   "source": [
    "%load_ext sql\n",
    "%sql sqlite:///PS2.db"
   ]
  },
  {
   "cell_type": "markdown",
   "metadata": {},
   "source": [
    "Problem Set #2\n",
    "=======\n",
    "\n",
    "### Deliverables:\n",
    "\n",
    "Submit your answers using the `submission_template.txt` file that is posted on the class website. Follow the instructions on the file! Upload the file at Canvas (under PS2).\n",
    "\n",
    "\n",
    "### Instructions / Notes:\n",
    "\n",
    "**_Read these carefully_**\n",
    "\n",
    "* You **may** create new IPython notebook cells to use for e.g. testing, debugging, exploring, etc.- this is encouraged in fact!- **just make sure that your final answer for each question is _in its own cell_ and _clearly indicated_**\n",
    "* When you see `In [*]:` to the left of the cell you are executing, this means that the code / query is _running_.\n",
    "    * **If the cell is hanging- i.e. running for too long: To restart the SQL connection, you must restart the entire python kernel**\n",
    "    * To restart kernel using the menu bar: \"Kernel >> Restart >> Clear all outputs & restart\"), then re-execute the sql connection cell at top\n",
    "    * You will also need to restart the connection if you want to load a different version of the database file\n",
    "* Remember:\n",
    "    * `%sql [SQL]` is for _single line_ SQL queries\n",
    "    * `%%sql [SQL]` is for _multi line_ SQL queries\n",
    "* _Have fun!_"
   ]
  },
  {
   "cell_type": "markdown",
   "metadata": {},
   "source": [
    "Problem 1: Verifying Functional Dependencies [24 points]\n",
    "---------\n",
    "\n",
    "For this part, you will need to provide a _single_ SQL query which will check whether a certain condition holds on the **hospital** table in the provided database:"
   ]
  },
  {
   "cell_type": "code",
   "execution_count": 4,
   "metadata": {},
   "outputs": [
    {
     "name": "stdout",
     "output_type": "stream",
     "text": [
      " * sqlite:///PS2.db\n",
      "Done.\n"
     ]
    },
    {
     "data": {
      "text/html": [
       "<table>\n",
       "    <tr>\n",
       "        <th>provider</th>\n",
       "        <th>hospital</th>\n",
       "        <th>address</th>\n",
       "        <th>city</th>\n",
       "        <th>state</th>\n",
       "        <th>zip</th>\n",
       "        <th>county</th>\n",
       "        <th>phone_number</th>\n",
       "        <th>hospital_type</th>\n",
       "        <th>hospital_owner</th>\n",
       "        <th>emergency_service</th>\n",
       "        <th>condition</th>\n",
       "        <th>measure_code</th>\n",
       "    </tr>\n",
       "    <tr>\n",
       "        <td>10018</td>\n",
       "        <td>CALLAHAN EYE FOUNDATION HOSPITAL</td>\n",
       "        <td>1720 UNIVERSITY BLVD</td>\n",
       "        <td>BIRMINGHAM</td>\n",
       "        <td>AL</td>\n",
       "        <td>35233</td>\n",
       "        <td>JEFFERSON</td>\n",
       "        <td>2053258100</td>\n",
       "        <td>Acute Care Hospitals</td>\n",
       "        <td>Voluntary non-profit - Private</td>\n",
       "        <td>Yes</td>\n",
       "        <td>Surgical Infection Prevention</td>\n",
       "        <td>SCIP-CARD-2</td>\n",
       "    </tr>\n",
       "    <tr>\n",
       "        <td>10018</td>\n",
       "        <td>CALLAHAN EYE FOUNDATION HOSPITAL</td>\n",
       "        <td>1720 UNIVERSITY BLVD</td>\n",
       "        <td>BIRMINGHAM</td>\n",
       "        <td>AL</td>\n",
       "        <td>35233</td>\n",
       "        <td>JEFFERSON</td>\n",
       "        <td>2053258100</td>\n",
       "        <td>Acute Care Hospitals</td>\n",
       "        <td>Voluntary non-profit - Private</td>\n",
       "        <td>Yes</td>\n",
       "        <td>Surgical Infection Prevention</td>\n",
       "        <td>SCIP-INF-1</td>\n",
       "    </tr>\n",
       "</table>"
      ],
      "text/plain": [
       "[(10018, 'CALLAHAN EYE FOUNDATION HOSPITAL', '1720 UNIVERSITY BLVD', 'BIRMINGHAM', 'AL', 35233, 'JEFFERSON', 2053258100, 'Acute Care Hospitals', 'Voluntary non-profit - Private', 'Yes', 'Surgical Infection Prevention', 'SCIP-CARD-2'),\n",
       " (10018, 'CALLAHAN EYE FOUNDATION HOSPITAL', '1720 UNIVERSITY BLVD', 'BIRMINGHAM', 'AL', 35233, 'JEFFERSON', 2053258100, 'Acute Care Hospitals', 'Voluntary non-profit - Private', 'Yes', 'Surgical Infection Prevention', 'SCIP-INF-1')]"
      ]
     },
     "execution_count": 4,
     "metadata": {},
     "output_type": "execute_result"
    }
   ],
   "source": [
    "%sql select * from hospital limit 2;"
   ]
  },
  {
   "cell_type": "markdown",
   "metadata": {},
   "source": [
    "You need to evaluate any requested conditions in the following way: **your query should return an empty result if and only if the condition holds on the instance.**  If the condition doesn't hold, your query should return something non-empty, but it doesn't matter what this is.\n",
    "\n",
    "Note our language here: the conditions that we specify cannot be proved to hold **in general** without knowing the externally-defined functional dependencies; so what we mean is, _check whether they **are not violated** for the provided instance_.\n",
    "\n",
    "You may assume that there are no `NULL` values in the tables."
   ]
  },
  {
   "cell_type": "markdown",
   "metadata": {},
   "source": [
    "### Part (a)  [14 points]\n",
    "\n",
    "Is $\\{provider\\}$ a **superkey** for relation $Hospital$?"
   ]
  },
  {
   "cell_type": "code",
   "execution_count": 3,
   "metadata": {},
   "outputs": [
    {
     "name": "stdout",
     "output_type": "stream",
     "text": [
      " * sqlite:///PS2.db\n",
      "Done.\n"
     ]
    },
    {
     "data": {
      "text/html": [
       "<table>\n",
       "    <tr>\n",
       "        <th>count</th>\n",
       "    </tr>\n",
       "    <tr>\n",
       "        <td>25</td>\n",
       "    </tr>\n",
       "    <tr>\n",
       "        <td>25</td>\n",
       "    </tr>\n",
       "    <tr>\n",
       "        <td>25</td>\n",
       "    </tr>\n",
       "    <tr>\n",
       "        <td>25</td>\n",
       "    </tr>\n",
       "    <tr>\n",
       "        <td>25</td>\n",
       "    </tr>\n",
       "    <tr>\n",
       "        <td>25</td>\n",
       "    </tr>\n",
       "    <tr>\n",
       "        <td>25</td>\n",
       "    </tr>\n",
       "    <tr>\n",
       "        <td>25</td>\n",
       "    </tr>\n",
       "    <tr>\n",
       "        <td>25</td>\n",
       "    </tr>\n",
       "    <tr>\n",
       "        <td>25</td>\n",
       "    </tr>\n",
       "    <tr>\n",
       "        <td>25</td>\n",
       "    </tr>\n",
       "    <tr>\n",
       "        <td>25</td>\n",
       "    </tr>\n",
       "    <tr>\n",
       "        <td>25</td>\n",
       "    </tr>\n",
       "    <tr>\n",
       "        <td>25</td>\n",
       "    </tr>\n",
       "    <tr>\n",
       "        <td>25</td>\n",
       "    </tr>\n",
       "    <tr>\n",
       "        <td>25</td>\n",
       "    </tr>\n",
       "    <tr>\n",
       "        <td>25</td>\n",
       "    </tr>\n",
       "    <tr>\n",
       "        <td>25</td>\n",
       "    </tr>\n",
       "    <tr>\n",
       "        <td>25</td>\n",
       "    </tr>\n",
       "    <tr>\n",
       "        <td>25</td>\n",
       "    </tr>\n",
       "    <tr>\n",
       "        <td>25</td>\n",
       "    </tr>\n",
       "    <tr>\n",
       "        <td>25</td>\n",
       "    </tr>\n",
       "    <tr>\n",
       "        <td>25</td>\n",
       "    </tr>\n",
       "    <tr>\n",
       "        <td>25</td>\n",
       "    </tr>\n",
       "    <tr>\n",
       "        <td>25</td>\n",
       "    </tr>\n",
       "    <tr>\n",
       "        <td>28</td>\n",
       "    </tr>\n",
       "    <tr>\n",
       "        <td>28</td>\n",
       "    </tr>\n",
       "    <tr>\n",
       "        <td>25</td>\n",
       "    </tr>\n",
       "    <tr>\n",
       "        <td>25</td>\n",
       "    </tr>\n",
       "    <tr>\n",
       "        <td>25</td>\n",
       "    </tr>\n",
       "    <tr>\n",
       "        <td>25</td>\n",
       "    </tr>\n",
       "    <tr>\n",
       "        <td>28</td>\n",
       "    </tr>\n",
       "    <tr>\n",
       "        <td>25</td>\n",
       "    </tr>\n",
       "    <tr>\n",
       "        <td>25</td>\n",
       "    </tr>\n",
       "    <tr>\n",
       "        <td>20</td>\n",
       "    </tr>\n",
       "    <tr>\n",
       "        <td>17</td>\n",
       "    </tr>\n",
       "    <tr>\n",
       "        <td>5</td>\n",
       "    </tr>\n",
       "    <tr>\n",
       "        <td>25</td>\n",
       "    </tr>\n",
       "    <tr>\n",
       "        <td>13</td>\n",
       "    </tr>\n",
       "    <tr>\n",
       "        <td>20</td>\n",
       "    </tr>\n",
       "    <tr>\n",
       "        <td>2</td>\n",
       "    </tr>\n",
       "    <tr>\n",
       "        <td>18</td>\n",
       "    </tr>\n",
       "    <tr>\n",
       "        <td>18</td>\n",
       "    </tr>\n",
       "    <tr>\n",
       "        <td>2</td>\n",
       "    </tr>\n",
       "</table>"
      ],
      "text/plain": [
       "[(25,),\n",
       " (25,),\n",
       " (25,),\n",
       " (25,),\n",
       " (25,),\n",
       " (25,),\n",
       " (25,),\n",
       " (25,),\n",
       " (25,),\n",
       " (25,),\n",
       " (25,),\n",
       " (25,),\n",
       " (25,),\n",
       " (25,),\n",
       " (25,),\n",
       " (25,),\n",
       " (25,),\n",
       " (25,),\n",
       " (25,),\n",
       " (25,),\n",
       " (25,),\n",
       " (25,),\n",
       " (25,),\n",
       " (25,),\n",
       " (25,),\n",
       " (28,),\n",
       " (28,),\n",
       " (25,),\n",
       " (25,),\n",
       " (25,),\n",
       " (25,),\n",
       " (28,),\n",
       " (25,),\n",
       " (25,),\n",
       " (20,),\n",
       " (17,),\n",
       " (5,),\n",
       " (25,),\n",
       " (13,),\n",
       " (20,),\n",
       " (2,),\n",
       " (18,),\n",
       " (18,),\n",
       " (2,)]"
      ]
     },
     "execution_count": 3,
     "metadata": {},
     "output_type": "execute_result"
    }
   ],
   "source": [
    "%%sql WITH S AS (SELECT COUNT(hospital) AS count \n",
    "                 FROM hospital \n",
    "                 GROUP BY provider)\n",
    "        SELECT * FROM S WHERE S.count > 1;"
   ]
  },
  {
   "cell_type": "code",
   "execution_count": 11,
   "metadata": {},
   "outputs": [
    {
     "name": "stdout",
     "output_type": "stream",
     "text": [
      " * sqlite:///PS2.db\n",
      "Done.\n"
     ]
    },
    {
     "data": {
      "text/html": [
       "<table>\n",
       "    <tr>\n",
       "        <th>sql</th>\n",
       "    </tr>\n",
       "</table>"
      ],
      "text/plain": [
       "[]"
      ]
     },
     "execution_count": 11,
     "metadata": {},
     "output_type": "execute_result"
    }
   ],
   "source": [
    "%sql SELECT sql FROM sqlite_master WHERE name = 'Hospital';"
   ]
  },
  {
   "cell_type": "code",
   "execution_count": 1,
   "metadata": {},
   "outputs": [
    {
     "name": "stderr",
     "output_type": "stream",
     "text": [
      "UsageError: Cell magic `%%sql` not found.\n"
     ]
    }
   ],
   "source": [
    "%%sql\n",
    "WITH C AS \n",
    "(SELECT COUNT(*) AS h\n",
    "FROM Hospital \n",
    "GROUP BY provider)\n",
    "SELECT *\n",
    "FROM C\n",
    "WHERE C.h>1;"
   ]
  },
  {
   "cell_type": "code",
   "execution_count": 12,
   "metadata": {},
   "outputs": [
    {
     "name": "stdout",
     "output_type": "stream",
     "text": [
      " * sqlite:///PS2.db\n",
      "Done.\n"
     ]
    },
    {
     "data": {
      "text/html": [
       "<table>\n",
       "    <tr>\n",
       "        <th>cid</th>\n",
       "        <th>name</th>\n",
       "        <th>type</th>\n",
       "        <th>notnull</th>\n",
       "        <th>dflt_value</th>\n",
       "        <th>pk</th>\n",
       "    </tr>\n",
       "    <tr>\n",
       "        <td>0</td>\n",
       "        <td>provider</td>\n",
       "        <td>integer</td>\n",
       "        <td>0</td>\n",
       "        <td>None</td>\n",
       "        <td>0</td>\n",
       "    </tr>\n",
       "    <tr>\n",
       "        <td>1</td>\n",
       "        <td>hospital</td>\n",
       "        <td>varchar(100)</td>\n",
       "        <td>0</td>\n",
       "        <td>None</td>\n",
       "        <td>0</td>\n",
       "    </tr>\n",
       "    <tr>\n",
       "        <td>2</td>\n",
       "        <td>address</td>\n",
       "        <td>varchar(100)</td>\n",
       "        <td>0</td>\n",
       "        <td>None</td>\n",
       "        <td>0</td>\n",
       "    </tr>\n",
       "    <tr>\n",
       "        <td>3</td>\n",
       "        <td>city</td>\n",
       "        <td>varchar(100)</td>\n",
       "        <td>0</td>\n",
       "        <td>None</td>\n",
       "        <td>0</td>\n",
       "    </tr>\n",
       "    <tr>\n",
       "        <td>4</td>\n",
       "        <td>state</td>\n",
       "        <td>varchar(10)</td>\n",
       "        <td>0</td>\n",
       "        <td>None</td>\n",
       "        <td>0</td>\n",
       "    </tr>\n",
       "    <tr>\n",
       "        <td>5</td>\n",
       "        <td>zip</td>\n",
       "        <td>integer</td>\n",
       "        <td>0</td>\n",
       "        <td>None</td>\n",
       "        <td>0</td>\n",
       "    </tr>\n",
       "    <tr>\n",
       "        <td>6</td>\n",
       "        <td>county</td>\n",
       "        <td>varchar(100)</td>\n",
       "        <td>0</td>\n",
       "        <td>None</td>\n",
       "        <td>0</td>\n",
       "    </tr>\n",
       "    <tr>\n",
       "        <td>7</td>\n",
       "        <td>phone_number</td>\n",
       "        <td>integer</td>\n",
       "        <td>0</td>\n",
       "        <td>None</td>\n",
       "        <td>0</td>\n",
       "    </tr>\n",
       "    <tr>\n",
       "        <td>8</td>\n",
       "        <td>hospital_type</td>\n",
       "        <td>varchar(200)</td>\n",
       "        <td>0</td>\n",
       "        <td>None</td>\n",
       "        <td>0</td>\n",
       "    </tr>\n",
       "    <tr>\n",
       "        <td>9</td>\n",
       "        <td>hospital_owner</td>\n",
       "        <td>varchar(400)</td>\n",
       "        <td>0</td>\n",
       "        <td>None</td>\n",
       "        <td>0</td>\n",
       "    </tr>\n",
       "    <tr>\n",
       "        <td>10</td>\n",
       "        <td>emergency_service</td>\n",
       "        <td>varchar(1000)</td>\n",
       "        <td>0</td>\n",
       "        <td>None</td>\n",
       "        <td>0</td>\n",
       "    </tr>\n",
       "    <tr>\n",
       "        <td>11</td>\n",
       "        <td>condition</td>\n",
       "        <td>text</td>\n",
       "        <td>0</td>\n",
       "        <td>None</td>\n",
       "        <td>0</td>\n",
       "    </tr>\n",
       "    <tr>\n",
       "        <td>12</td>\n",
       "        <td>measure_code</td>\n",
       "        <td>text</td>\n",
       "        <td>0</td>\n",
       "        <td>None</td>\n",
       "        <td>0</td>\n",
       "    </tr>\n",
       "</table>"
      ],
      "text/plain": [
       "[(0, 'provider', 'integer', 0, None, 0),\n",
       " (1, 'hospital', 'varchar(100)', 0, None, 0),\n",
       " (2, 'address', 'varchar(100)', 0, None, 0),\n",
       " (3, 'city', 'varchar(100)', 0, None, 0),\n",
       " (4, 'state', 'varchar(10)', 0, None, 0),\n",
       " (5, 'zip', 'integer', 0, None, 0),\n",
       " (6, 'county', 'varchar(100)', 0, None, 0),\n",
       " (7, 'phone_number', 'integer', 0, None, 0),\n",
       " (8, 'hospital_type', 'varchar(200)', 0, None, 0),\n",
       " (9, 'hospital_owner', 'varchar(400)', 0, None, 0),\n",
       " (10, 'emergency_service', 'varchar(1000)', 0, None, 0),\n",
       " (11, 'condition', 'text', 0, None, 0),\n",
       " (12, 'measure_code', 'text', 0, None, 0)]"
      ]
     },
     "execution_count": 12,
     "metadata": {},
     "output_type": "execute_result"
    }
   ],
   "source": [
    "%sql PRAGMA table_info(Hospital);"
   ]
  },
  {
   "cell_type": "code",
   "execution_count": 13,
   "metadata": {},
   "outputs": [
    {
     "name": "stdout",
     "output_type": "stream",
     "text": [
      " * sqlite:///PS2.db\n",
      "Done.\n"
     ]
    },
    {
     "data": {
      "text/html": [
       "<table>\n",
       "    <tr>\n",
       "        <th>provider</th>\n",
       "        <th>hospital</th>\n",
       "        <th>address</th>\n",
       "        <th>city</th>\n",
       "        <th>state</th>\n",
       "        <th>zip</th>\n",
       "        <th>county</th>\n",
       "        <th>phone_number</th>\n",
       "        <th>hospital_type</th>\n",
       "        <th>hospital_owner</th>\n",
       "        <th>emergency_service</th>\n",
       "        <th>condition</th>\n",
       "        <th>measure_code</th>\n",
       "        <th>provider_1</th>\n",
       "        <th>hospital_1</th>\n",
       "        <th>address_1</th>\n",
       "        <th>city_1</th>\n",
       "        <th>state_1</th>\n",
       "        <th>zip_1</th>\n",
       "        <th>county_1</th>\n",
       "        <th>phone_number_1</th>\n",
       "        <th>hospital_type_1</th>\n",
       "        <th>hospital_owner_1</th>\n",
       "        <th>emergency_service_1</th>\n",
       "        <th>condition_1</th>\n",
       "        <th>measure_code_1</th>\n",
       "    </tr>\n",
       "    <tr>\n",
       "        <td>10018</td>\n",
       "        <td>CALLAHAN EYE FOUNDATION HOSPITAL</td>\n",
       "        <td>1720 UNIVERSITY BLVD</td>\n",
       "        <td>BIRMINGHAM</td>\n",
       "        <td>AL</td>\n",
       "        <td>35233</td>\n",
       "        <td>JEFFERSON</td>\n",
       "        <td>2053258100</td>\n",
       "        <td>Acute Care Hospitals</td>\n",
       "        <td>Voluntary non-profit - Private</td>\n",
       "        <td>Yes</td>\n",
       "        <td>Surgical Infection Prevention</td>\n",
       "        <td>SCIP-CARD-2</td>\n",
       "        <td>10018</td>\n",
       "        <td>CALLAHAN EYE FOUNDATION HOSPITAL</td>\n",
       "        <td>1720 UNIVERSITY BLVD</td>\n",
       "        <td>BIRMINGHAM</td>\n",
       "        <td>AL</td>\n",
       "        <td>35233</td>\n",
       "        <td>JEFFERSON</td>\n",
       "        <td>2053258100</td>\n",
       "        <td>Acute Care Hospitals</td>\n",
       "        <td>Voluntary non-profit - Private</td>\n",
       "        <td>Yes</td>\n",
       "        <td>Heart Attack</td>\n",
       "        <td>AMI-1</td>\n",
       "    </tr>\n",
       "    <tr>\n",
       "        <td>10018</td>\n",
       "        <td>CALLAHAN EYE FOUNDATION HOSPITAL</td>\n",
       "        <td>1720 UNIVERSITY BLVD</td>\n",
       "        <td>BIRMINGHAM</td>\n",
       "        <td>AL</td>\n",
       "        <td>35233</td>\n",
       "        <td>JEFFERSON</td>\n",
       "        <td>2053258100</td>\n",
       "        <td>Acute Care Hospitals</td>\n",
       "        <td>Voluntary non-profit - Private</td>\n",
       "        <td>Yes</td>\n",
       "        <td>Surgical Infection Prevention</td>\n",
       "        <td>SCIP-CARD-2</td>\n",
       "        <td>10018</td>\n",
       "        <td>CALLAHAN EYE FOUNDATION HOSPITAL</td>\n",
       "        <td>1720 UNIVERSITY BLVD</td>\n",
       "        <td>BIRMINGHAM</td>\n",
       "        <td>AL</td>\n",
       "        <td>35233</td>\n",
       "        <td>JEFFERSON</td>\n",
       "        <td>2053258100</td>\n",
       "        <td>Acute Care Hospitals</td>\n",
       "        <td>Voluntary non-profit - Private</td>\n",
       "        <td>Yes</td>\n",
       "        <td>Heart Attack</td>\n",
       "        <td>AMI-2</td>\n",
       "    </tr>\n",
       "    <tr>\n",
       "        <td>10018</td>\n",
       "        <td>CALLAHAN EYE FOUNDATION HOSPITAL</td>\n",
       "        <td>1720 UNIVERSITY BLVD</td>\n",
       "        <td>BIRMINGHAM</td>\n",
       "        <td>AL</td>\n",
       "        <td>35233</td>\n",
       "        <td>JEFFERSON</td>\n",
       "        <td>2053258100</td>\n",
       "        <td>Acute Care Hospitals</td>\n",
       "        <td>Voluntary non-profit - Private</td>\n",
       "        <td>Yes</td>\n",
       "        <td>Surgical Infection Prevention</td>\n",
       "        <td>SCIP-CARD-2</td>\n",
       "        <td>10018</td>\n",
       "        <td>CALLAHAN EYE FOUNDATION HOSPITAL</td>\n",
       "        <td>1720 UNIVERSITY BLVD</td>\n",
       "        <td>BIRMINGHAM</td>\n",
       "        <td>AL</td>\n",
       "        <td>35233</td>\n",
       "        <td>JEFFERSON</td>\n",
       "        <td>2053258100</td>\n",
       "        <td>Acute Care Hospitals</td>\n",
       "        <td>Voluntary non-profit - Private</td>\n",
       "        <td>Yes</td>\n",
       "        <td>Heart Attack</td>\n",
       "        <td>AMI-3</td>\n",
       "    </tr>\n",
       "</table>"
      ],
      "text/plain": [
       "[(10018, 'CALLAHAN EYE FOUNDATION HOSPITAL', '1720 UNIVERSITY BLVD', 'BIRMINGHAM', 'AL', 35233, 'JEFFERSON', 2053258100, 'Acute Care Hospitals', 'Voluntary non-profit - Private', 'Yes', 'Surgical Infection Prevention', 'SCIP-CARD-2', 10018, 'CALLAHAN EYE FOUNDATION HOSPITAL', '1720 UNIVERSITY BLVD', 'BIRMINGHAM', 'AL', 35233, 'JEFFERSON', 2053258100, 'Acute Care Hospitals', 'Voluntary non-profit - Private', 'Yes', 'Heart Attack', 'AMI-1'),\n",
       " (10018, 'CALLAHAN EYE FOUNDATION HOSPITAL', '1720 UNIVERSITY BLVD', 'BIRMINGHAM', 'AL', 35233, 'JEFFERSON', 2053258100, 'Acute Care Hospitals', 'Voluntary non-profit - Private', 'Yes', 'Surgical Infection Prevention', 'SCIP-CARD-2', 10018, 'CALLAHAN EYE FOUNDATION HOSPITAL', '1720 UNIVERSITY BLVD', 'BIRMINGHAM', 'AL', 35233, 'JEFFERSON', 2053258100, 'Acute Care Hospitals', 'Voluntary non-profit - Private', 'Yes', 'Heart Attack', 'AMI-2'),\n",
       " (10018, 'CALLAHAN EYE FOUNDATION HOSPITAL', '1720 UNIVERSITY BLVD', 'BIRMINGHAM', 'AL', 35233, 'JEFFERSON', 2053258100, 'Acute Care Hospitals', 'Voluntary non-profit - Private', 'Yes', 'Surgical Infection Prevention', 'SCIP-CARD-2', 10018, 'CALLAHAN EYE FOUNDATION HOSPITAL', '1720 UNIVERSITY BLVD', 'BIRMINGHAM', 'AL', 35233, 'JEFFERSON', 2053258100, 'Acute Care Hospitals', 'Voluntary non-profit - Private', 'Yes', 'Heart Attack', 'AMI-3')]"
      ]
     },
     "execution_count": 13,
     "metadata": {},
     "output_type": "execute_result"
    }
   ],
   "source": [
    "%%sql\n",
    "SELECT *\n",
    "FROM hospital h1, hospital h2 \n",
    "WHERE h1.provider = h2.provider \n",
    "      AND (h1.hospital <> h2.hospital \n",
    "           OR h1.address <> h2.address \n",
    "           OR h1.city <> h2.city\n",
    "           OR h1.state <> h2.state\n",
    "           OR h1.zip <> h2.zip \n",
    "           OR h1.county <> h2.county \n",
    "           OR h1.phone_number <> h2.phone_number \n",
    "           OR h1.hospital_type <> h2.hospital_type \n",
    "           OR h1.hospital_owner <> h2.hospital_owner \n",
    "           OR h1.emergency_service <> h2.emergency_service\n",
    "           OR h1.condition <> h2.condition \n",
    "           OR h1.measure_code <> h2.measure_code)\n",
    "LIMIT 3;"
   ]
  },
  {
   "cell_type": "markdown",
   "metadata": {},
   "source": [
    "### Part (b) [10 points]\n",
    "\n",
    "Does $\\{Zip\\} \\rightarrow \\{City, State\\}$ hold for relation $Hospital$?"
   ]
  },
  {
   "cell_type": "code",
   "execution_count": 16,
   "metadata": {},
   "outputs": [
    {
     "name": "stdout",
     "output_type": "stream",
     "text": [
      " * sqlite:///PS2.db\n",
      "Done.\n"
     ]
    },
    {
     "data": {
      "text/html": [
       "<table>\n",
       "    <tr>\n",
       "        <th>provider</th>\n",
       "        <th>hospital</th>\n",
       "        <th>address</th>\n",
       "        <th>city</th>\n",
       "        <th>state</th>\n",
       "        <th>zip</th>\n",
       "        <th>county</th>\n",
       "        <th>phone_number</th>\n",
       "        <th>hospital_type</th>\n",
       "        <th>hospital_owner</th>\n",
       "        <th>emergency_service</th>\n",
       "        <th>condition</th>\n",
       "        <th>measure_code</th>\n",
       "        <th>provider_1</th>\n",
       "        <th>hospital_1</th>\n",
       "        <th>address_1</th>\n",
       "        <th>city_1</th>\n",
       "        <th>state_1</th>\n",
       "        <th>zip_1</th>\n",
       "        <th>county_1</th>\n",
       "        <th>phone_number_1</th>\n",
       "        <th>hospital_type_1</th>\n",
       "        <th>hospital_owner_1</th>\n",
       "        <th>emergency_service_1</th>\n",
       "        <th>condition_1</th>\n",
       "        <th>measure_code_1</th>\n",
       "    </tr>\n",
       "</table>"
      ],
      "text/plain": [
       "[]"
      ]
     },
     "execution_count": 16,
     "metadata": {},
     "output_type": "execute_result"
    }
   ],
   "source": [
    "%%sql\n",
    "SELECT *\n",
    "FROM hospital h1, hospital h2 \n",
    "WHERE h1.zip = h2.zip\n",
    "      AND (h1.city <> h2.city\n",
    "           OR h1.state <> h2.state)\n",
    "LIMIT 3;"
   ]
  },
  {
   "cell_type": "markdown",
   "metadata": {},
   "source": [
    "Problem 2: Superkeys & Decompositions [40 points]\n",
    "---------\n",
    "\n",
    "Consider a relation $S(A,B,C,D,E,F)$ with the following functional dependencies:\n",
    "\n",
    "* $\\{A\\} \\rightarrow \\{D\\}$\n",
    "* $\\{A\\} \\rightarrow \\{E\\}$\n",
    "* $\\{D\\} \\rightarrow \\{C\\}$\n",
    "* $\\{D\\} \\rightarrow \\{F\\}$\n",
    "\n",
    "In each part of this problem, we will examine different properties the provided schema.\n",
    "\n",
    "To answer **yes**, provide python code that assigns the variable ```answer``` to ```True``` and assigns ```explanation``` to be a python string which contains a (short!) explanation of why.  For example:\n",
    "\n",
    "```python\n",
    "answer = True\n",
    "explanation = \"All keys are superkeys.\"\n",
    "```\n",
    "\n",
    "To answer **no**, provide python code that assigns the variable ```answer``` to ```False``` and assigns ```explanation``` to be a python string which contains a (short!) explanation of why.  For example:\n",
    "\n",
    "```python\n",
    "answer = False\n",
    "explanation = \"D is not a superkey because its closure is {D,C,F}.\"\n",
    "```"
   ]
  },
  {
   "cell_type": "markdown",
   "metadata": {
    "collapsed": true
   },
   "source": [
    "### Part (a) [8 points]\n",
    "\n",
    "Is it correct that ${A,B}$ is a superkey?"
   ]
  },
  {
   "cell_type": "code",
   "execution_count": null,
   "metadata": {
    "collapsed": true
   },
   "outputs": [],
   "source": [
    "answer = True\n",
    "explanation = \"{AB}+ = {ABCDEF},and it includes all attributes, so A,B is a superkey.\""
   ]
  },
  {
   "cell_type": "markdown",
   "metadata": {},
   "source": [
    "### Part (b) [8 points]\n",
    "\n",
    "Is it correct that the decomposition $ABC$, $CDE$, $EFA$ is lossless-join?"
   ]
  },
  {
   "cell_type": "code",
   "execution_count": null,
   "metadata": {
    "collapsed": true
   },
   "outputs": [],
   "source": [
    "answer = False\n",
    "explanation = \"Chase Algorithm,there is not a row without subscripts. Therefore,this decompostion is not lossless-join.  \""
   ]
  },
  {
   "cell_type": "markdown",
   "metadata": {},
   "source": [
    "### Part (c) [8 points]\n",
    "\n",
    "Is it correct that the decomposition $ABC$, $CDE$, $EFA$ is dependency preserving?"
   ]
  },
  {
   "cell_type": "code",
   "execution_count": null,
   "metadata": {
    "collapsed": true
   },
   "outputs": [],
   "source": [
    "answer = False\n",
    "explanation = \"R{ABC} with FDS: A->C(F1);R{CDE} with FDS: D->C(F2);R{EFA} with FDS: A->E(F3),A->F(F4); And the original FDS:A->D;D->F are not included in {F1,F2,F3,F4}+, so it is not dependency preserving.\""
   ]
  },
  {
   "cell_type": "markdown",
   "metadata": {},
   "source": [
    "### Part (d) [8 points]\n",
    "\n",
    "Is the functional dependency $\\{A\\} \\rightarrow \\{E,F\\}$ logically implied by FDs present in the relation?"
   ]
  },
  {
   "cell_type": "code",
   "execution_count": null,
   "metadata": {
    "collapsed": true
   },
   "outputs": [],
   "source": [
    "answer = True\n",
    "explanation = \"A->D;D->F imply A->F. Therefore, {A}->{E,F}.\""
   ]
  },
  {
   "cell_type": "markdown",
   "metadata": {},
   "source": [
    "### Part (e) [8 points]\n",
    "\n",
    "Is it correct that relation $S$ is in BCNF? "
   ]
  },
  {
   "cell_type": "code",
   "execution_count": null,
   "metadata": {},
   "outputs": [],
   "source": [
    "answer = False\n",
    "explanation= \"Since the closure of {A} doesn't contain every attributes\""
   ]
  },
  {
   "cell_type": "markdown",
   "metadata": {},
   "source": [
    "Problem 3: Relational Algebra [36 points]\n",
    "---------\n",
    "\n",
    "Consider the following relational schema for conference publications:\n",
    "*  `Article(aid, title, year, confid, numpages)`\n",
    "*  `Conference(confid, name, impact)`\n",
    "*  `Author(aid, pid)`\n",
    "*  `Person(pid, name, affiliation)`\n",
    "\n",
    "Express the following queries in the extended Relational Algebra (you can also use the aggregation operator if necessary). To write the RA expression, use the LaTex mode that ipython notebook provides. For example:\n",
    "\n",
    "$$\\pi_{name}(\\sigma_{affiliation=\"UW-Madison\"}(Person))$$ "
   ]
  },
  {
   "cell_type": "markdown",
   "metadata": {},
   "source": [
    "### Part (a) [9 points]\n",
    "\n",
    "Output the name of every person affiliated with `UW-Madison` who has submitted at least one article in 2019."
   ]
  },
  {
   "cell_type": "markdown",
   "metadata": {},
   "source": [
    "$$\\pi_{name}(\\sigma_{affiliation=\"UW-Madison\"}(Person\\Join(\\pi_{pid}(Author\\Join(\\pi_{aid}(\\sigma_{year=2019}(Article)))))))$$ "
   ]
  },
  {
   "cell_type": "markdown",
   "metadata": {},
   "source": [
    "### Part (b) [9 points]\n",
    "\n",
    "Output the names of the people who coauthored an article with `John Doe`. Be careful: a person cannot be coauthor with herself!"
   ]
  },
  {
   "cell_type": "markdown",
   "metadata": {},
   "source": [
    "$$\\pi_{name}(\\sigma_{aid = Jaid}((Author\\Join(\\pi_{pid}(\\sigma_{name\\ne\"John Doe\"}(Person))))\\times(\\rho_{Jaid,Jpid}(Author\\Join(\\pi_{pid}(\\sigma_{name=\"John Doe\"}(Person))))))$$"
   ]
  },
  {
   "cell_type": "markdown",
   "metadata": {},
   "source": [
    "$$\\pi_{name}(\\sigma_{aid = Jaid}((Author\\Join(\\pi_{pid}(\\sigma_{name\\ne\"John Doe\"}(Person))))\\times(\\rho_{Jaid,Jpid}(Author\\Join(\\pi_{pid}(\\sigma_{name=\"John Doe\"}(Person)))))))$$"
   ]
  },
  {
   "cell_type": "markdown",
   "metadata": {},
   "source": [
    "### Part (c) [9 points]\n",
    "\n",
    "Count how many articles were published during 2010-2020 by `John Doe`."
   ]
  },
  {
   "cell_type": "markdown",
   "metadata": {},
   "source": [
    "$$\\gamma_{COUNT(aid)}(\\pi_{aid}(\\sigma_{year\\ge2010 and year\\le2020}(Article))\\Join(Author\\Join(\\pi_{pid}(\\sigma_{name=\"John Doe\"}(Person)))))$$"
   ]
  },
  {
   "cell_type": "markdown",
   "metadata": {},
   "source": [
    "### Part (d) [9 points]\n",
    "\n",
    "Output the names of everyone who published an article in the conference `SIGMOD` in 2018, but not in 2019. "
   ]
  },
  {
   "cell_type": "markdown",
   "metadata": {},
   "source": [
    "$$\\pi_{name}(Person\\Join((\\pi_{pid}(Author\\Join(\\pi_{aid}(\\sigma_{year=2018}(Article\\Join(\\pi_{confid}(\\sigma_{name=\"SIGMOD\"}(Conference))))))))-(\\pi_{pid}(Author\\Join(\\pi_{aid}(\\sigma_{year=2019}(Article\\Join(\\pi_{confid}(\\sigma_{name=\"SIGMOD\"}(Conference))))))))))$$"
   ]
  },
  {
   "cell_type": "markdown",
   "metadata": {},
   "source": [
    "$$\\pi_{airline}(Flights\\Join((\\pi_{departure-airport}(Flights)\\Join_{departure-airport = aircode}\\pi_{aircode}(\\sigma_{state='WI'}(Airport)))\\cup(\\pi_{arrival-airport}(Flights)\\Join_{arrival-airport = aircode}\\pi_{aircode}(\\sigma_{state='WI'}(Airport)))))$$"
   ]
  },
  {
   "cell_type": "code",
   "execution_count": null,
   "metadata": {},
   "outputs": [],
   "source": []
  }
 ],
 "metadata": {
  "kernelspec": {
   "display_name": "Python 3",
   "language": "python",
   "name": "python3"
  },
  "language_info": {
   "codemirror_mode": {
    "name": "ipython",
    "version": 3
   },
   "file_extension": ".py",
   "mimetype": "text/x-python",
   "name": "python",
   "nbconvert_exporter": "python",
   "pygments_lexer": "ipython3",
   "version": "3.7.6"
  }
 },
 "nbformat": 4,
 "nbformat_minor": 1
}
